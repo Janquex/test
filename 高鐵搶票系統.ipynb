{
 "cells": [
  {
   "cell_type": "code",
   "execution_count": 1,
   "metadata": {},
   "outputs": [],
   "source": [
    "from selenium import webdriver"
   ]
  },
  {
   "cell_type": "code",
   "execution_count": 11,
   "metadata": {},
   "outputs": [
    {
     "data": {
      "text/plain": [
       "'https://irs.thsrc.com.tw/IMINT/?student=university'"
      ]
     },
     "execution_count": 11,
     "metadata": {},
     "output_type": "execute_result"
    }
   ],
   "source": [
    "driver = webdriver.Chrome('C:/Users/ACER/Desktop/chromedriver.exe')\n",
    "driver.get('https://irs.thsrc.com.tw/IMINT/?student=university')\n",
    "driver.current_url"
   ]
  },
  {
   "cell_type": "code",
   "execution_count": 12,
   "metadata": {},
   "outputs": [],
   "source": [
    "#點我同意\n",
    "\n",
    "driver.find_element_by_css_selector('#btn-confirm').click()"
   ]
  },
  {
   "cell_type": "code",
   "execution_count": 13,
   "metadata": {},
   "outputs": [],
   "source": [
    "#選擇站別，之後可以改老恩選擇器，預設台北到台中\n",
    "\n",
    "driver.find_element_by_css_selector('#content > tbody > tr:nth-child(1) > td:nth-child(2) > span > select').click()\n",
    "driver.find_element_by_css_selector('#content > tbody > tr:nth-child(1) > td:nth-child(2) > span > select > option:nth-child(3)').click()\n",
    "driver.find_element_by_css_selector('#content > tbody > tr:nth-child(1) > td:nth-child(2) > select').click()\n",
    "driver.find_element_by_css_selector('#content > tbody > tr:nth-child(1) > td:nth-child(2) > select > option:nth-child(8)').click()"
   ]
  },
  {
   "cell_type": "code",
   "execution_count": 14,
   "metadata": {},
   "outputs": [],
   "source": [
    "#點依車次訂票\n",
    "\n",
    "driver.find_element_by_css_selector('#bookingMethod_1').click()"
   ]
  },
  {
   "cell_type": "code",
   "execution_count": 15,
   "metadata": {},
   "outputs": [],
   "source": [
    "#填寫日期(格式==2019/01/20)\n",
    "\n",
    "driver.find_element_by_css_selector('#toTimeInputField').clear()\n",
    "inputDate = driver.find_element_by_css_selector('#toTimeInputField')\n",
    "inputDate.send_keys('2019/01/21')"
   ]
  },
  {
   "cell_type": "code",
   "execution_count": 16,
   "metadata": {},
   "outputs": [],
   "source": [
    "#填寫車次號碼\n",
    "\n",
    "inputNum = driver.find_element_by_css_selector('#toTrainID > input[type=\"text\"]')\n",
    "inputNum.send_keys('0837')"
   ]
  },
  {
   "cell_type": "code",
   "execution_count": 17,
   "metadata": {},
   "outputs": [
    {
     "name": "stdout",
     "output_type": "stream",
     "text": [
      "A9A3\n"
     ]
    }
   ],
   "source": [
    "#手動輸入驗證碼\n",
    "\n",
    "inputCapcha=driver.find_element_by_css_selector('#action > tbody > tr > td > span:nth-child(3) > input')\n",
    "inputCapcha.send_keys(input())"
   ]
  },
  {
   "cell_type": "code",
   "execution_count": null,
   "metadata": {},
   "outputs": [],
   "source": [
    "#點開始查詢\n",
    "\n",
    "driver.find_element_by_css_selector('#SubmitButton').click()"
   ]
  },
  {
   "cell_type": "code",
   "execution_count": 72,
   "metadata": {},
   "outputs": [],
   "source": [
    "#進入填資料頁面，填身分證\n",
    "\n",
    "inputId=driver.find_element_by_css_selector('#idNumber')\n",
    "inputId.send_keys('身分證字號')"
   ]
  },
  {
   "cell_type": "code",
   "execution_count": 73,
   "metadata": {},
   "outputs": [],
   "source": [
    "#填電話\n",
    "\n",
    "inputPhone = driver.find_element_by_css_selector('#mobilePhone')\n",
    "inputPhone.send_keys('電話')"
   ]
  },
  {
   "cell_type": "code",
   "execution_count": 74,
   "metadata": {},
   "outputs": [],
   "source": [
    "#填電子郵件\n",
    "\n",
    "inputEmail=driver.find_element_by_css_selector('#name2622')\n",
    "inputEmail.send_keys('電子郵件')"
   ]
  },
  {
   "cell_type": "code",
   "execution_count": 75,
   "metadata": {},
   "outputs": [],
   "source": [
    "#點我同意\n",
    "\n",
    "driver.find_element_by_css_selector('#content > table.table_simple > tbody > tr:nth-child(1) > td:nth-child(1) > input').click()"
   ]
  },
  {
   "cell_type": "code",
   "execution_count": 76,
   "metadata": {},
   "outputs": [],
   "source": [
    "#點完成訂位\n",
    "\n",
    "driver.find_element_by_css_selector('#isSubmit').click()"
   ]
  },
  {
   "cell_type": "code",
   "execution_count": 22,
   "metadata": {},
   "outputs": [],
   "source": [
    "driver.quit()"
   ]
  },
  {
   "cell_type": "code",
   "execution_count": null,
   "metadata": {},
   "outputs": [],
   "source": []
  },
  {
   "cell_type": "code",
   "execution_count": null,
   "metadata": {},
   "outputs": [],
   "source": []
  },
  {
   "cell_type": "code",
   "execution_count": null,
   "metadata": {},
   "outputs": [],
   "source": []
  },
  {
   "cell_type": "code",
   "execution_count": null,
   "metadata": {},
   "outputs": [],
   "source": []
  },
  {
   "cell_type": "code",
   "execution_count": null,
   "metadata": {},
   "outputs": [],
   "source": []
  }
 ],
 "metadata": {
  "kernelspec": {
   "display_name": "Python 3",
   "language": "python",
   "name": "python3"
  },
  "language_info": {
   "codemirror_mode": {
    "name": "ipython",
    "version": 3
   },
   "file_extension": ".py",
   "mimetype": "text/x-python",
   "name": "python",
   "nbconvert_exporter": "python",
   "pygments_lexer": "ipython3",
   "version": "3.6.8"
  }
 },
 "nbformat": 4,
 "nbformat_minor": 2
}
